{
 "cells": [
  {
   "cell_type": "markdown",
   "id": "7e58fb23-edd2-4644-bc15-d426196bf6dc",
   "metadata": {},
   "source": [
    "# Data Science Tools and Ecosystem"
   ]
  },
  {
   "cell_type": "markdown",
   "id": "b05df8e6-9ab7-4364-b00f-ad6de6f19000",
   "metadata": {},
   "source": [
    "In this notebook, Data Science Tools and Ecosystem are summarized"
   ]
  },
  {
   "cell_type": "markdown",
   "id": "d3d900ad-4f11-45f6-b0a4-7d45019f5eef",
   "metadata": {},
   "source": [
    "Some of the popular languages that Data Scientists use are:\n",
    "1. Python\n",
    "2. R\n",
    "3. SQL\n",
    "4. C++\n",
    "5. Java etc..."
   ]
  },
  {
   "cell_type": "markdown",
   "id": "feec6626-dfd5-47e8-b997-a355a24d242d",
   "metadata": {},
   "source": [
    "Some of the commonly used libraries used by Data Scientists include:\n",
    "1. TensorFlow\n",
    "2. NumPy\n",
    "3. SciPy\n",
    "4. Pandas\n",
    "5. Matplotlib..etc"
   ]
  },
  {
   "cell_type": "markdown",
   "id": "f832f0d9-af43-4129-b567-730d00cf74fa",
   "metadata": {},
   "source": [
    "|Data Science Tools|\n",
    "|---|\n",
    "|SAS|\n",
    "|Apache Hadoop|\n",
    "|Tensor Flow|\n"
   ]
  },
  {
   "cell_type": "markdown",
   "id": "e63be333-385f-4670-8861-76687d1ee7b0",
   "metadata": {},
   "source": [
    "### Below are a few examples of evaluating arithmetic expressions in Python"
   ]
  },
  {
   "cell_type": "code",
   "execution_count": 1,
   "id": "9e153810-11e1-4113-9858-c0f2b31ea205",
   "metadata": {
    "tags": []
   },
   "outputs": [
    {
     "data": {
      "text/plain": [
       "17"
      ]
     },
     "execution_count": 1,
     "metadata": {},
     "output_type": "execute_result"
    }
   ],
   "source": [
    "#This a simple arithmetic expression to mutiply then add integers\n",
    "(3*4)+5"
   ]
  },
  {
   "cell_type": "code",
   "execution_count": 2,
   "id": "bcd0717c-03c0-4043-b239-4e2e14355f4d",
   "metadata": {
    "tags": []
   },
   "outputs": [
    {
     "data": {
      "text/plain": [
       "3.3333333333333335"
      ]
     },
     "execution_count": 2,
     "metadata": {},
     "output_type": "execute_result"
    }
   ],
   "source": [
    "#This will convert 200 minutes to hours by diving by 60\n",
    "200/60"
   ]
  },
  {
   "cell_type": "markdown",
   "id": "e875a1d0-4553-4d69-bfd3-2b48689f30d6",
   "metadata": {},
   "source": [
    "##### _Objectives_\n",
    "* List popular language for Data Science\n",
    "* List popular library for Data Science\n",
    "* List of well known Data Science tools\n",
    "* How to provide comment to the Data Science cells"
   ]
  },
  {
   "cell_type": "markdown",
   "id": "d0975bc1-4cc0-4239-a7e1-f5afa2e87dcc",
   "metadata": {},
   "source": [
    "## Author\n",
    "Rabeya Akter Lima"
   ]
  }
 ],
 "metadata": {
  "kernelspec": {
   "display_name": "Python",
   "language": "python",
   "name": "conda-env-python-py"
  },
  "language_info": {
   "codemirror_mode": {
    "name": "ipython",
    "version": 3
   },
   "file_extension": ".py",
   "mimetype": "text/x-python",
   "name": "python",
   "nbconvert_exporter": "python",
   "pygments_lexer": "ipython3",
   "version": "3.7.12"
  }
 },
 "nbformat": 4,
 "nbformat_minor": 5
}
